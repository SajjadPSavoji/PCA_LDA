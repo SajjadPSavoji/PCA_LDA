{
 "cells": [
  {
   "cell_type": "markdown",
   "metadata": {},
   "source": [
    "# problem 9"
   ]
  },
  {
   "cell_type": "code",
   "execution_count": 6,
   "metadata": {},
   "outputs": [],
   "source": [
    "import numpy as np\n",
    "from sklearn.decomposition import PCA\n",
    "import cv2\n",
    "import glob\n",
    "import matplotlib.pyplot as plt\n",
    "import copy\n",
    "import mnist_reader as mnist\n",
    "from sklearn.naive_bayes import GaussianNB as NB\n",
    "from sklearn.metrics import accuracy_score as ACC\n",
    "from tqdm.notebook import tqdm"
   ]
  },
  {
   "cell_type": "markdown",
   "metadata": {},
   "source": [
    "# combine train and test together"
   ]
  },
  {
   "cell_type": "code",
   "execution_count": 7,
   "metadata": {},
   "outputs": [
    {
     "name": "stdout",
     "output_type": "stream",
     "text": [
      "image path mnist/train-images-idx3-ubyte.gz\n",
      "image path mnist/t10k-images-idx3-ubyte.gz\n"
     ]
    }
   ],
   "source": [
    "DATA_SET_PATH = \"mnist/\"\n",
    "train_imgs , train_labels = mnist.load_mnist(DATA_SET_PATH , kind = 'train')\n",
    "test_imgs , test_labels = mnist.load_mnist(DATA_SET_PATH , kind = 't10k')"
   ]
  },
  {
   "cell_type": "code",
   "execution_count": 8,
   "metadata": {},
   "outputs": [],
   "source": [
    "data = np.concatenate((train_imgs , test_imgs) , axis = 0)\n",
    "\n",
    "# standard form\n",
    "data = data.T\n",
    "train_imgs = train_imgs.T\n",
    "test_imgs = test_imgs.T"
   ]
  },
  {
   "cell_type": "markdown",
   "metadata": {},
   "source": [
    "# pca"
   ]
  },
  {
   "cell_type": "code",
   "execution_count": 9,
   "metadata": {},
   "outputs": [],
   "source": [
    "class PCA():\n",
    "    def __init__(self , th = 10**1 , whiten = False):\n",
    "        self.th = th\n",
    "        self.whiten = whiten\n",
    "        \n",
    "    def fit(self , X):\n",
    "        #mean of data\n",
    "        self.m = np.atleast_2d(np.mean(X , axis = 1)).T\n",
    "        \n",
    "        #scatter matrix\n",
    "        self.S = (X.shape[1]-1) * np.cov(X)\n",
    "        \n",
    "        #eigen values and eigen vectors\n",
    "        self.w , self.V = np.linalg.eig(self.S)\n",
    "        self.V = np.real(self.V)\n",
    "        self.w = np.real(self.w)\n",
    "        \n",
    "        #condition number\n",
    "        self.cn = np.max(np.abs(self.w)) / np.abs(self.w)\n",
    "        \n",
    "        #mask\n",
    "        self.mask = self.cn < self.th\n",
    "        \n",
    "        \n",
    "        # D matrix for whitening\n",
    "        if self.whiten is False :\n",
    "            self.D = np.eye(X.shape[0])\n",
    "        else :\n",
    "            self.D = np.diag(np.square(1/self.w[self.mask]))\n",
    "            \n",
    "        # transform matrix\n",
    "        self.T = np.matmul(self.D , self.V[: , self.mask].T)\n",
    "        \n",
    "        #final_features\n",
    "        self.n_features_ = sum(self.mask)\n",
    "        self.features_ = X.shape[0]\n",
    "            \n",
    "    def transform(self , X):\n",
    "        return np.matmul(self.T , (X - self.m))"
   ]
  },
  {
   "cell_type": "code",
   "execution_count": 19,
   "metadata": {},
   "outputs": [
    {
     "data": {
      "text/plain": [
       "(154173308.2466142, 109.37509654080506, 16862720473.488724, 784, 6)"
      ]
     },
     "execution_count": 19,
     "metadata": {},
     "output_type": "execute_result"
    }
   ],
   "source": [
    "pca1 = PCA(whiten=True)\n",
    "pca1.fit(data)\n",
    "np.max(pca1.cn) , np.min(pca1.w) , np.max(pca1.w) , pca1.features_ , pca1.n_features_"
   ]
  },
  {
   "cell_type": "code",
   "execution_count": 8,
   "metadata": {},
   "outputs": [
    {
     "data": {
      "text/plain": [
       "(202645743.7905276, 63.86550859558336, 12942073491.912323, 784, 603)"
      ]
     },
     "execution_count": 8,
     "metadata": {},
     "output_type": "execute_result"
    }
   ],
   "source": [
    "pca2 = PCA(whiten=True)\n",
    "pca2.fit(train_imgs)\n",
    "np.max(pca2.cn) , np.min(pca2.w), np.max(pca2.w) , pca2.features_ , pca2.n_features_"
   ]
  },
  {
   "cell_type": "code",
   "execution_count": 9,
   "metadata": {},
   "outputs": [
    {
     "name": "stderr",
     "output_type": "stream",
     "text": [
      "/usr/local/lib/python3.6/dist-packages/ipykernel_launcher.py:19: RuntimeWarning: divide by zero encountered in true_divide\n"
     ]
    },
    {
     "data": {
      "text/plain": [
       "(inf, 0.0, 3921822088.964669, 784, 555)"
      ]
     },
     "execution_count": 9,
     "metadata": {},
     "output_type": "execute_result"
    }
   ],
   "source": [
    "pca3 = PCA(whiten=True)\n",
    "pca3.fit(test_imgs)\n",
    "np.max(pca3.cn) , np.min(pca3.w), np.max(pca3.w) , pca3.features_ , pca3.n_features_"
   ]
  },
  {
   "cell_type": "markdown",
   "metadata": {},
   "source": [
    "#  A) eigen values sorted"
   ]
  },
  {
   "cell_type": "code",
   "execution_count": 10,
   "metadata": {},
   "outputs": [
    {
     "data": {
      "text/plain": [
       "array([1.68627205e+10, 1.03389054e+10, 3.41728510e+09, 2.84574939e+09,\n",
       "       2.20645070e+09, 1.95402598e+09, 1.34403594e+09, 1.09858228e+09,\n",
       "       7.72924827e+08, 7.65054468e+08, 5.76883668e+08, 5.21031643e+08,\n",
       "       4.39539101e+08, 3.74489082e+08, 3.52063107e+08, 3.45748094e+08,\n",
       "       3.15468934e+08, 3.02127179e+08, 2.65836726e+08, 2.61155813e+08,\n",
       "       2.53795557e+08, 2.39136799e+08, 2.24184286e+08, 2.15286753e+08,\n",
       "       2.10220229e+08, 2.01229220e+08, 1.92036243e+08, 1.84303808e+08,\n",
       "       1.78812383e+08, 1.69562229e+08, 1.59828021e+08, 1.52481606e+08,\n",
       "       1.50366588e+08, 1.46746991e+08, 1.42248654e+08, 1.35885075e+08,\n",
       "       1.31650831e+08, 1.29870582e+08, 1.25389274e+08, 1.21080125e+08,\n",
       "       1.14110546e+08, 1.13057009e+08, 1.12106199e+08, 1.04777348e+08,\n",
       "       1.02478378e+08, 9.76751090e+07, 9.51675727e+07, 9.40827965e+07,\n",
       "       9.36602710e+07, 8.92548985e+07, 8.84752699e+07, 8.66382499e+07,\n",
       "       8.50592999e+07, 8.35912797e+07, 8.12282233e+07, 7.81825758e+07,\n",
       "       7.63192995e+07, 7.54884626e+07, 7.37394330e+07, 7.21760370e+07,\n",
       "       7.14176720e+07, 7.04953712e+07, 6.88858381e+07, 6.75927661e+07,\n",
       "       6.58411494e+07, 6.48900108e+07, 6.43283316e+07, 6.32294924e+07,\n",
       "       6.15699643e+07, 6.04757987e+07, 5.90085260e+07, 5.79799058e+07,\n",
       "       5.63212279e+07, 5.51206311e+07, 5.50626753e+07, 5.37613193e+07,\n",
       "       5.32226808e+07, 5.30264429e+07, 5.09411441e+07, 5.01652463e+07,\n",
       "       4.95022564e+07, 4.85276794e+07, 4.84105252e+07, 4.69339530e+07,\n",
       "       4.68117882e+07, 4.62766664e+07, 4.47562361e+07, 4.43315187e+07,\n",
       "       4.41267293e+07, 4.39185563e+07, 4.32294450e+07, 4.28571809e+07,\n",
       "       4.23700943e+07, 4.13368610e+07, 4.09127592e+07, 4.07752609e+07,\n",
       "       3.97364414e+07, 3.93590496e+07, 3.88502469e+07, 3.81589335e+07,\n",
       "       3.74942215e+07, 3.67761244e+07, 3.67336588e+07, 3.61112168e+07,\n",
       "       3.57119666e+07, 3.53596017e+07, 3.46599868e+07, 3.44445676e+07,\n",
       "       3.40296339e+07, 3.38041390e+07, 3.34350215e+07, 3.27550833e+07,\n",
       "       3.25151079e+07, 3.22682577e+07, 3.19368335e+07, 3.17451761e+07,\n",
       "       3.12677974e+07, 3.10263079e+07, 3.06087984e+07, 3.02283726e+07,\n",
       "       2.95860908e+07, 2.94302329e+07, 2.91712034e+07, 2.88250369e+07,\n",
       "       2.87211465e+07, 2.83118709e+07, 2.80620372e+07, 2.78926361e+07,\n",
       "       2.75918280e+07, 2.73956256e+07, 2.69704205e+07, 2.67506991e+07,\n",
       "       2.63900765e+07, 2.61366167e+07, 2.60545800e+07, 2.56773427e+07,\n",
       "       2.55206130e+07, 2.51822252e+07, 2.49474201e+07, 2.48127091e+07,\n",
       "       2.46910607e+07, 2.41636278e+07, 2.41072469e+07, 2.39074807e+07,\n",
       "       2.35569480e+07, 2.32912370e+07, 2.30163468e+07, 2.28987610e+07,\n",
       "       2.26332857e+07, 2.25033201e+07, 2.23408750e+07, 2.19819990e+07,\n",
       "       2.17974015e+07, 2.16821860e+07, 2.16502637e+07, 2.15577787e+07,\n",
       "       2.13422282e+07, 2.11323077e+07, 2.10074042e+07, 2.07775759e+07,\n",
       "       2.07704566e+07, 2.06073881e+07, 2.03820302e+07, 2.01673476e+07,\n",
       "       1.99478423e+07, 1.97931951e+07, 1.97497071e+07, 1.96488036e+07,\n",
       "       1.92090998e+07, 1.90765830e+07, 1.89579846e+07, 1.88075115e+07,\n",
       "       1.87005676e+07, 1.85613080e+07, 1.84572677e+07, 1.83938327e+07,\n",
       "       1.81633576e+07, 1.80696359e+07, 1.78752343e+07, 1.77908908e+07,\n",
       "       1.77432967e+07, 1.75398624e+07, 1.72835470e+07, 1.72391313e+07,\n",
       "       1.71531616e+07, 1.69527312e+07, 1.68399601e+07, 1.68219732e+07,\n",
       "       1.66405366e+07, 1.65778624e+07, 1.63573822e+07, 1.62419127e+07,\n",
       "       1.61454880e+07, 1.60356688e+07, 1.59364093e+07, 1.58326827e+07,\n",
       "       1.57511423e+07, 1.55858557e+07, 1.55335228e+07, 1.53697335e+07,\n",
       "       1.53004230e+07, 1.52195064e+07, 1.51322842e+07, 1.50180090e+07,\n",
       "       1.48366800e+07, 1.47283658e+07, 1.46887649e+07, 1.45866669e+07,\n",
       "       1.45558968e+07, 1.44221885e+07, 1.43647168e+07, 1.41937590e+07,\n",
       "       1.41320404e+07, 1.41042456e+07, 1.39970313e+07, 1.39535073e+07,\n",
       "       1.38637995e+07, 1.38309403e+07, 1.36675976e+07, 1.35613579e+07,\n",
       "       1.34213933e+07, 1.33310034e+07, 1.32883544e+07, 1.32071101e+07,\n",
       "       1.31688843e+07, 1.30273014e+07, 1.29190181e+07, 1.28884406e+07,\n",
       "       1.28149281e+07, 1.27758197e+07, 1.25980631e+07, 1.25166399e+07,\n",
       "       1.24276198e+07, 1.23735009e+07, 1.22673566e+07, 1.22367714e+07,\n",
       "       1.21322196e+07, 1.20707009e+07, 1.20009870e+07, 1.18742427e+07,\n",
       "       1.17699366e+07, 1.17342188e+07, 1.17198009e+07, 1.16017217e+07,\n",
       "       1.15775589e+07, 1.14763659e+07, 1.14220615e+07, 1.13904294e+07,\n",
       "       1.13143750e+07, 1.12378089e+07, 1.11522351e+07, 1.11032768e+07,\n",
       "       1.09173067e+07, 1.09071815e+07, 1.08778226e+07, 1.08317582e+07,\n",
       "       1.07283555e+07, 1.06459942e+07, 1.06011779e+07, 1.05686235e+07,\n",
       "       1.04662001e+07, 1.04222299e+07, 1.03509684e+07, 1.03274390e+07,\n",
       "       1.02521726e+07, 1.02206265e+07, 1.01283766e+07, 1.00448270e+07,\n",
       "       1.00102643e+07, 9.97824452e+06, 9.90630788e+06, 9.88983670e+06,\n",
       "       9.85084158e+06, 9.78530890e+06, 9.74902693e+06, 9.67528220e+06,\n",
       "       9.60986610e+06, 9.56262000e+06, 9.51628262e+06, 9.45009837e+06,\n",
       "       9.38784151e+06, 9.33310954e+06, 9.28614268e+06, 9.26553538e+06,\n",
       "       9.19594031e+06, 9.17474926e+06, 9.07770748e+06, 9.01664307e+06,\n",
       "       8.99066908e+06, 8.95931116e+06, 8.91776630e+06, 8.88336260e+06,\n",
       "       8.75021402e+06, 8.73807713e+06, 8.70425509e+06, 8.64050828e+06,\n",
       "       8.62568904e+06, 8.57844653e+06, 8.52776435e+06, 8.48009595e+06,\n",
       "       8.40742725e+06, 8.37015542e+06, 8.34040889e+06, 8.28171097e+06,\n",
       "       8.26240918e+06, 8.22267669e+06, 8.19524685e+06, 8.12321674e+06,\n",
       "       8.12079152e+06, 8.07564130e+06, 7.97852808e+06, 7.95512804e+06,\n",
       "       7.88475532e+06, 7.82492672e+06, 7.81289264e+06, 7.77984066e+06,\n",
       "       7.75795991e+06, 7.74128365e+06, 7.64184519e+06, 7.61602691e+06,\n",
       "       7.59203064e+06, 7.56310596e+06, 7.52052733e+06, 7.49937499e+06,\n",
       "       7.45590966e+06, 7.37771788e+06, 7.33654277e+06, 7.28219742e+06,\n",
       "       7.26810156e+06, 7.20707090e+06, 7.19599876e+06, 7.14025494e+06,\n",
       "       7.12989874e+06, 7.10645464e+06, 7.03583116e+06, 7.01690061e+06,\n",
       "       6.94127053e+06, 6.89846157e+06, 6.87114775e+06, 6.85415078e+06,\n",
       "       6.82309538e+06, 6.80030421e+06, 6.71420764e+06, 6.69787511e+06,\n",
       "       6.68572104e+06, 6.65802937e+06, 6.59801145e+06, 6.57288144e+06,\n",
       "       6.54648081e+06, 6.50446705e+06, 6.46183054e+06, 6.44914929e+06,\n",
       "       6.37585428e+06, 6.35604591e+06, 6.33459928e+06, 6.29124558e+06,\n",
       "       6.25298032e+06, 6.20989842e+06, 6.17693072e+06, 6.14722173e+06,\n",
       "       6.12506625e+06, 6.08874544e+06, 6.08197762e+06, 6.05163944e+06,\n",
       "       6.02411475e+06, 5.97632764e+06, 5.96659702e+06, 5.94333787e+06,\n",
       "       5.90092048e+06, 5.88855846e+06, 5.86404866e+06, 5.84187536e+06,\n",
       "       5.78086730e+06, 5.77180537e+06, 5.73352854e+06, 5.69674520e+06,\n",
       "       5.67495252e+06, 5.66912660e+06, 5.62082708e+06, 5.61232082e+06,\n",
       "       5.58055295e+06, 5.55414713e+06, 5.52942095e+06, 5.50446143e+06,\n",
       "       5.49618490e+06, 5.45023281e+06, 5.42352173e+06, 5.40028807e+06,\n",
       "       5.37409054e+06, 5.36346254e+06, 5.33435634e+06, 5.30095134e+06,\n",
       "       5.26272449e+06, 5.25577838e+06, 5.23544845e+06, 5.17703990e+06,\n",
       "       5.15736673e+06, 5.13694532e+06, 5.10906219e+06, 5.08516124e+06,\n",
       "       5.06748709e+06, 5.02417303e+06, 4.97228919e+06, 4.96837058e+06,\n",
       "       4.94799634e+06, 4.90311948e+06, 4.89396788e+06, 4.88266097e+06,\n",
       "       4.86438612e+06, 4.85329354e+06, 4.82507111e+06, 4.78717564e+06,\n",
       "       4.76850561e+06, 4.75388901e+06, 4.71379792e+06, 4.68703412e+06,\n",
       "       4.65649432e+06, 4.64622717e+06, 4.62063415e+06, 4.60984387e+06,\n",
       "       4.59614025e+06, 4.58466296e+06, 4.57388215e+06, 4.56099965e+06,\n",
       "       4.53101814e+06, 4.47707668e+06, 4.46448833e+06, 4.43316028e+06,\n",
       "       4.40537246e+06, 4.38951399e+06, 4.35842365e+06, 4.33879655e+06,\n",
       "       4.32982930e+06, 4.30430401e+06, 4.28557724e+06, 4.28299594e+06,\n",
       "       4.25377740e+06, 4.24810374e+06, 4.22174311e+06, 4.19808197e+06,\n",
       "       4.17838367e+06, 4.15527970e+06, 4.14209696e+06, 4.11293161e+06,\n",
       "       4.07178943e+06, 4.06595090e+06, 4.05172022e+06, 4.03249957e+06,\n",
       "       4.01553828e+06, 3.98495764e+06, 3.97352685e+06, 3.94413091e+06,\n",
       "       3.93099875e+06, 3.90356883e+06, 3.89651130e+06, 3.88112515e+06,\n",
       "       3.85739568e+06, 3.83911634e+06, 3.82231529e+06, 3.81101943e+06,\n",
       "       3.76153705e+06, 3.74045278e+06, 3.72178451e+06, 3.71010645e+06,\n",
       "       3.69486642e+06, 3.67953083e+06, 3.65749304e+06, 3.65616419e+06,\n",
       "       3.62732214e+06, 3.61471813e+06, 3.59226654e+06, 3.56089467e+06,\n",
       "       3.53921202e+06, 3.53760428e+06, 3.50789104e+06, 3.48355165e+06,\n",
       "       3.46853518e+06, 3.46195844e+06, 3.43143131e+06, 3.41864159e+06,\n",
       "       3.40309950e+06, 3.38424005e+06, 3.36320978e+06, 3.33882668e+06,\n",
       "       3.32274551e+06, 3.32147807e+06, 3.29504559e+06, 3.28510049e+06,\n",
       "       3.25162700e+06, 3.25141484e+06, 3.22097262e+06, 3.21773952e+06,\n",
       "       3.20554689e+06, 3.18883906e+06, 3.18105244e+06, 3.16632964e+06,\n",
       "       3.13875197e+06, 3.12535434e+06, 3.11826529e+06, 3.09811242e+06,\n",
       "       3.06494000e+06, 3.04866043e+06, 3.04497009e+06, 3.00919486e+06,\n",
       "       2.99551738e+06, 2.98986895e+06, 2.96986836e+06, 2.96123171e+06,\n",
       "       2.94526211e+06, 2.94344732e+06, 2.90748532e+06, 2.88232256e+06,\n",
       "       2.87669118e+06, 2.84968436e+06, 2.84647491e+06, 2.83551462e+06,\n",
       "       2.81874342e+06, 2.81331274e+06, 2.80115287e+06, 2.76703588e+06,\n",
       "       2.76194798e+06, 2.74076935e+06, 2.72881045e+06, 2.72583674e+06,\n",
       "       2.72147368e+06, 2.69341114e+06, 2.68410390e+06, 2.66850919e+06,\n",
       "       2.65033931e+06, 2.64283713e+06, 2.63515998e+06, 2.61836492e+06,\n",
       "       2.59326705e+06, 2.58377562e+06, 2.57487419e+06, 2.56489270e+06,\n",
       "       2.53828839e+06, 2.53252697e+06, 2.51358744e+06, 2.50502869e+06,\n",
       "       2.48991119e+06, 2.48311624e+06, 2.47771732e+06, 2.46300998e+06,\n",
       "       2.44711335e+06, 2.43052818e+06, 2.41578525e+06, 2.38863291e+06,\n",
       "       2.38604694e+06, 2.36138176e+06, 2.34088313e+06, 2.33534716e+06,\n",
       "       2.32455664e+06, 2.29781381e+06, 2.28842956e+06, 2.27816337e+06,\n",
       "       2.27611014e+06, 2.27231702e+06, 2.24386405e+06, 2.23495879e+06,\n",
       "       2.22237289e+06, 2.21253498e+06, 2.19215165e+06, 2.17374148e+06,\n",
       "       2.16852070e+06, 2.14126159e+06, 2.13457866e+06, 2.13141969e+06,\n",
       "       2.10357131e+06, 2.09841302e+06, 2.09060655e+06, 2.08331172e+06,\n",
       "       2.07144643e+06, 2.06306898e+06, 2.05623186e+06, 2.04641046e+06,\n",
       "       2.03556667e+06, 2.01996337e+06, 2.00776212e+06, 1.99001810e+06,\n",
       "       1.97152897e+06, 1.95568827e+06, 1.94768140e+06, 1.92643560e+06,\n",
       "       1.92182156e+06, 1.91497861e+06, 1.91396060e+06, 1.90381390e+06,\n",
       "       1.88397775e+06, 1.86958426e+06, 1.86006091e+06, 1.84564005e+06,\n",
       "       1.84021595e+06, 1.83686440e+06, 1.81625064e+06, 1.81000531e+06,\n",
       "       1.80388286e+06, 1.80009268e+06, 1.78344885e+06, 1.77434048e+06,\n",
       "       1.76697789e+06, 1.74346400e+06, 1.74133451e+06, 1.73248369e+06,\n",
       "       1.72757162e+06, 1.71177795e+06, 1.69896808e+06, 1.69564323e+06,\n",
       "       1.67713436e+06, 1.67257675e+06, 1.66416391e+06, 1.65962933e+06,\n",
       "       1.64632660e+06, 1.63201331e+06, 1.62593352e+06, 1.61491675e+06,\n",
       "       1.60117533e+06, 1.58934856e+06, 1.58102269e+06, 1.57157496e+06,\n",
       "       1.56452761e+06, 1.55325238e+06, 1.53009643e+06, 1.51607379e+06,\n",
       "       1.51462164e+06, 1.50242930e+06, 1.49462436e+06, 1.48263732e+06,\n",
       "       1.46667136e+06, 1.45584583e+06, 1.44947853e+06, 1.44285453e+06,\n",
       "       1.43229621e+06, 1.41023638e+06, 1.40591271e+06, 1.40038443e+06,\n",
       "       1.39678355e+06, 1.38619592e+06, 1.37778448e+06, 1.36923007e+06,\n",
       "       1.36315660e+06, 1.34213172e+06, 1.32831418e+06, 1.32108054e+06,\n",
       "       1.31386687e+06, 1.30584144e+06, 1.29075639e+06, 1.28703944e+06,\n",
       "       1.27473094e+06, 1.26245925e+06, 1.26000296e+06, 1.24068080e+06,\n",
       "       1.23623095e+06, 1.22825579e+06, 1.21029095e+06, 1.20663966e+06,\n",
       "       1.19454578e+06, 1.18690157e+06, 1.18180665e+06, 1.16748728e+06,\n",
       "       1.16445469e+06, 1.14606072e+06, 1.13517534e+06, 1.12414468e+06,\n",
       "       1.11752708e+06, 1.09737766e+06, 1.08640141e+06, 1.08268414e+06,\n",
       "       1.06330906e+06, 1.05591654e+06, 1.03940272e+06, 1.03123515e+06,\n",
       "       1.01898340e+06, 1.01294675e+06, 1.00900727e+06, 9.92415246e+05,\n",
       "       9.87514949e+05, 9.78526345e+05, 9.64167613e+05, 9.52405483e+05,\n",
       "       9.47195156e+05, 9.42454926e+05, 9.29073266e+05, 9.19816436e+05,\n",
       "       9.10833315e+05, 8.97729968e+05, 8.92461486e+05, 8.83773360e+05,\n",
       "       8.71745159e+05, 8.60692192e+05, 8.54552258e+05, 8.47319255e+05,\n",
       "       8.42245803e+05, 8.31503013e+05, 8.22131500e+05, 8.10833912e+05,\n",
       "       7.94194799e+05, 7.84729869e+05, 7.71143649e+05, 7.65081826e+05,\n",
       "       7.63835098e+05, 7.50366394e+05, 7.40029879e+05, 7.37076904e+05,\n",
       "       7.27744241e+05, 7.20584838e+05, 7.10115084e+05, 6.91892976e+05,\n",
       "       6.87985279e+05, 6.80851634e+05, 6.54968835e+05, 6.43118196e+05,\n",
       "       6.40102834e+05, 6.34010076e+05, 6.18081590e+05, 6.10268743e+05,\n",
       "       5.97468963e+05, 5.86593246e+05, 5.77616793e+05, 5.70010058e+05,\n",
       "       5.56076049e+05, 5.50353273e+05, 5.23226566e+05, 5.17560171e+05,\n",
       "       4.97555951e+05, 4.94535379e+05, 4.77629558e+05, 4.72109776e+05,\n",
       "       4.64638818e+05, 4.54166283e+05, 4.48855054e+05, 4.38549225e+05,\n",
       "       4.24165272e+05, 4.08455790e+05, 4.00547517e+05, 3.93862325e+05,\n",
       "       3.77265267e+05, 3.74241782e+05, 3.51396543e+05, 3.46239329e+05,\n",
       "       3.39512852e+05, 3.27580299e+05, 3.10376448e+05, 3.02309115e+05,\n",
       "       2.69064824e+05, 2.59889868e+05, 2.58520844e+05, 2.46056721e+05,\n",
       "       2.41059977e+05, 2.31432823e+05, 2.23886114e+05, 2.06601997e+05,\n",
       "       1.90511023e+05, 1.76366314e+05, 1.74567932e+05, 1.60096660e+05,\n",
       "       1.46873023e+05, 1.37841321e+05, 1.33194511e+05, 1.26292327e+05,\n",
       "       1.21617203e+05, 1.15705036e+05, 1.06337762e+05, 9.93308783e+04,\n",
       "       9.44185246e+04, 8.73876738e+04, 7.94896858e+04, 7.13386479e+04,\n",
       "       6.49775078e+04, 5.68454279e+04, 4.81418552e+04, 4.55020866e+04,\n",
       "       3.77525073e+04, 2.87229689e+04, 2.53507966e+04, 1.98137755e+04,\n",
       "       1.59933253e+04, 1.08861571e+04, 8.69090241e+03, 6.33770978e+03,\n",
       "       5.72638823e+03, 9.08442656e+02, 5.60101113e+02, 1.09375097e+02])"
      ]
     },
     "execution_count": 10,
     "metadata": {},
     "output_type": "execute_result"
    }
   ],
   "source": [
    "pca1.w.sort()\n",
    "pca1.w[::-1]"
   ]
  },
  {
   "cell_type": "markdown",
   "metadata": {},
   "source": [
    "# B) naive bayes with pca"
   ]
  },
  {
   "cell_type": "code",
   "execution_count": 44,
   "metadata": {},
   "outputs": [
    {
     "data": {
      "application/vnd.jupyter.widget-view+json": {
       "model_id": "4bbb14e2bce54425a17a1150db8119f5",
       "version_major": 2,
       "version_minor": 0
      },
      "text/plain": [
       "HBox(children=(IntProgress(value=0, max=8), HTML(value='')))"
      ]
     },
     "metadata": {},
     "output_type": "display_data"
    },
    {
     "name": "stdout",
     "output_type": "stream",
     "text": [
      "\n"
     ]
    }
   ],
   "source": [
    "res = {}\n",
    "\n",
    "for i in tqdm(range(2*10**2 , 10**3 , 10**2)):\n",
    "    # apply pca\n",
    "    pca1 = PCA(th=i , whiten=True)\n",
    "    pca1.fit(data)\n",
    "\n",
    "    # reduce data dims\n",
    "    train_imgs_red = pca1.transform(train_imgs)\n",
    "    test_imgs_red = pca1.transform(test_imgs)\n",
    "    \n",
    "    # train and test clf\n",
    "    clf = NB()\n",
    "    clf.fit(train_imgs_red.T , train_labels)\n",
    "    pred = clf.predict(test_imgs_red.T)\n",
    "    acci = ACC(pred , test_labels)\n",
    "    \n",
    "    # record\n",
    "    res[i] = acci"
   ]
  },
  {
   "cell_type": "code",
   "execution_count": 35,
   "metadata": {},
   "outputs": [
    {
     "data": {
      "text/plain": [
       "Text(0, 0.5, 'acc')"
      ]
     },
     "execution_count": 35,
     "metadata": {},
     "output_type": "execute_result"
    },
    {
     "data": {
      "image/png": "[encoded data removed]",
      "text/plain": [
       "<Figure size 432x288 with 1 Axes>"
      ]
     },
     "metadata": {
      "needs_background": "light"
     },
     "output_type": "display_data"
    }
   ],
   "source": [
    "plt.plot(list(res.keys()) , list(res.values()))\n",
    "plt.title(\"fine tune pca th\")\n",
    "plt.xlabel(\"th\")\n",
    "plt.ylabel(\"acc\")"
   ]
  },
  {
   "cell_type": "code",
   "execution_count": 37,
   "metadata": {},
   "outputs": [
    {
     "data": {
      "text/plain": [
       "Text(0, 0.5, 'acc')"
      ]
     },
     "execution_count": 37,
     "metadata": {},
     "output_type": "execute_result"
    },
    {
     "data": {
      "image/png": "[encoded data removed]",
      "text/plain": [
       "<Figure size 432x288 with 1 Axes>"
      ]
     },
     "metadata": {
      "needs_background": "light"
     },
     "output_type": "display_data"
    }
   ],
   "source": [
    "plt.plot(list(res.keys()) , list(res.values()))\n",
    "plt.title(\"fine tune pca th\")\n",
    "plt.xlabel(\"th\")\n",
    "plt.ylabel(\"acc\")"
   ]
  },
  {
   "cell_type": "code",
   "execution_count": 39,
   "metadata": {},
   "outputs": [
    {
     "data": {
      "text/plain": [
       "Text(0, 0.5, 'acc')"
      ]
     },
     "execution_count": 39,
     "metadata": {},
     "output_type": "execute_result"
    },
    {
     "data": {
      "image/png": "[encoded data removed]",
      "text/plain": [
       "<Figure size 432x288 with 1 Axes>"
      ]
     },
     "metadata": {
      "needs_background": "light"
     },
     "output_type": "display_data"
    }
   ],
   "source": [
    "plt.plot(list(res.keys()) , list(res.values()))\n",
    "plt.title(\"fine tune pca th\")\n",
    "plt.xlabel(\"th\")\n",
    "plt.ylabel(\"acc\")"
   ]
  },
  {
   "cell_type": "code",
   "execution_count": 41,
   "metadata": {},
   "outputs": [
    {
     "data": {
      "text/plain": [
       "Text(0, 0.5, 'acc')"
      ]
     },
     "execution_count": 41,
     "metadata": {},
     "output_type": "execute_result"
    },
    {
     "data": {
      "image/png": "[encoded data removed]",
      "text/plain": [
       "<Figure size 432x288 with 1 Axes>"
      ]
     },
     "metadata": {
      "needs_background": "light"
     },
     "output_type": "display_data"
    }
   ],
   "source": [
    "plt.plot(list(res.keys()) , list(res.values()))\n",
    "plt.title(\"fine tune pca th\")\n",
    "plt.xlabel(\"th\")\n",
    "plt.ylabel(\"acc\")"
   ]
  },
  {
   "cell_type": "code",
   "execution_count": 43,
   "metadata": {},
   "outputs": [
    {
     "data": {
      "text/plain": [
       "Text(0, 0.5, 'acc')"
      ]
     },
     "execution_count": 43,
     "metadata": {},
     "output_type": "execute_result"
    },
    {
     "data": {
      "image/png": "[encoded data removed]",
      "text/plain": [
       "<Figure size 432x288 with 1 Axes>"
      ]
     },
     "metadata": {
      "needs_background": "light"
     },
     "output_type": "display_data"
    }
   ],
   "source": [
    "plt.plot(list(res.keys()) , list(res.values()))\n",
    "plt.title(\"fine tune pca th\")\n",
    "plt.xlabel(\"th\")\n",
    "plt.ylabel(\"acc\")"
   ]
  },
  {
   "cell_type": "code",
   "execution_count": 45,
   "metadata": {},
   "outputs": [
    {
     "data": {
      "text/plain": [
       "Text(0, 0.5, 'acc')"
      ]
     },
     "execution_count": 45,
     "metadata": {},
     "output_type": "execute_result"
    },
    {
     "data": {
      "image/png": "[encoded data removed]",
      "text/plain": [
       "<Figure size 432x288 with 1 Axes>"
      ]
     },
     "metadata": {
      "needs_background": "light"
     },
     "output_type": "display_data"
    }
   ],
   "source": [
    "plt.plot(list(res.keys()) , list(res.values()))\n",
    "plt.title(\"fine tune pca th\")\n",
    "plt.xlabel(\"th\")\n",
    "plt.ylabel(\"acc\")"
   ]
  },
  {
   "cell_type": "markdown",
   "metadata": {},
   "source": [
    "#  pca on naive"
   ]
  },
  {
   "cell_type": "code",
   "execution_count": 10,
   "metadata": {},
   "outputs": [
    {
     "data": {
      "text/plain": [
       "0.766"
      ]
     },
     "execution_count": 10,
     "metadata": {},
     "output_type": "execute_result"
    }
   ],
   "source": [
    "pca1 = PCA(th=200 , whiten=True)\n",
    "pca1.fit(data)\n",
    "\n",
    "# reduce data dims\n",
    "train_imgs_red = pca1.transform(train_imgs)\n",
    "test_imgs_red = pca1.transform(test_imgs)\n",
    "\n",
    "# train and test clf\n",
    "clf = NB()\n",
    "clf.fit(train_imgs_red.T , train_labels)\n",
    "pred = clf.predict(test_imgs_red.T)\n",
    "ACC(pred , test_labels)"
   ]
  },
  {
   "cell_type": "code",
   "execution_count": 12,
   "metadata": {},
   "outputs": [
    {
     "data": {
      "text/plain": [
       "53"
      ]
     },
     "execution_count": 12,
     "metadata": {},
     "output_type": "execute_result"
    }
   ],
   "source": [
    "pca1.n_features_"
   ]
  },
  {
   "cell_type": "markdown",
   "metadata": {},
   "source": [
    "# naive bayes without dim reduction"
   ]
  },
  {
   "cell_type": "code",
   "execution_count": 11,
   "metadata": {},
   "outputs": [
    {
     "data": {
      "text/plain": [
       "0.5666666666666667"
      ]
     },
     "execution_count": 11,
     "metadata": {},
     "output_type": "execute_result"
    }
   ],
   "source": [
    "clf = NB()\n",
    "clf.fit(train_imgs.T , train_labels)\n",
    "pred = clf.predict(test_imgs.T)\n",
    "ACC(pred , test_labels)"
   ]
  },
  {
   "cell_type": "markdown",
   "metadata": {},
   "source": [
    "dimension redunction helped generalization on naive bayes clf. becuse in naive bayes we assume independency"
   ]
  },
  {
   "cell_type": "code",
   "execution_count": null,
   "metadata": {},
   "outputs": [],
   "source": []
  }
 ],
 "metadata": {
  "kernelspec": {
   "display_name": "Python 3",
   "language": "python",
   "name": "python3"
  },
  "language_info": {
   "codemirror_mode": {
    "name": "ipython",
    "version": 3
   },
   "file_extension": ".py",
   "mimetype": "text/x-python",
   "name": "python",
   "nbconvert_exporter": "python",
   "pygments_lexer": "ipython3",
   "version": "3.6.9"
  }
 },
 "nbformat": 4,
 "nbformat_minor": 2
}
